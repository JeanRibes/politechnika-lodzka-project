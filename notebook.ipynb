{
 "cells": [
  {
   "cell_type": "code",
   "execution_count": 5,
   "metadata": {},
   "outputs": [
    {
     "name": "stdout",
     "output_type": "stream",
     "text": [
      "Requirement already satisfied: opencv-python==4.2.0.34 in ./venv/lib/python3.8/site-packages (4.2.0.34)\n",
      "Requirement already satisfied: snorkel==0.9.5 in ./venv/lib/python3.8/site-packages (0.9.5)\n",
      "Requirement already satisfied: scikit-learn==0.21.3 in ./venv/lib/python3.8/site-packages (0.21.3)\n",
      "Collecting numpy>=1.17.3\n",
      "  Using cached numpy-1.21.4-cp38-cp38-manylinux_2_12_x86_64.manylinux2010_x86_64.whl (15.7 MB)\n",
      "Requirement already satisfied: munkres>=1.0.6 in ./venv/lib/python3.8/site-packages (from snorkel==0.9.5) (1.1.4)\n",
      "Requirement already satisfied: scipy<2.0.0,>=1.2.0 in ./venv/lib/python3.8/site-packages (from snorkel==0.9.5) (1.7.2)\n",
      "Requirement already satisfied: torch<2.0.0,>=1.2.0 in ./venv/lib/python3.8/site-packages (from snorkel==0.9.5) (1.10.0)\n",
      "Requirement already satisfied: tensorboard<2.0.0,>=1.14.0 in ./venv/lib/python3.8/site-packages (from snorkel==0.9.5) (1.15.0)\n",
      "Requirement already satisfied: pandas<0.26.0,>=0.25.0 in ./venv/lib/python3.8/site-packages (from snorkel==0.9.5) (0.25.3)\n",
      "Requirement already satisfied: tqdm<5.0.0,>=4.33.0 in ./venv/lib/python3.8/site-packages (from snorkel==0.9.5) (4.62.3)\n",
      "Requirement already satisfied: networkx<2.4,>=2.2 in ./venv/lib/python3.8/site-packages (from snorkel==0.9.5) (2.3)\n",
      "Requirement already satisfied: joblib>=0.11 in ./venv/lib/python3.8/site-packages (from scikit-learn==0.21.3) (1.1.0)\n",
      "Requirement already satisfied: typing-extensions in ./venv/lib/python3.8/site-packages (from torch<2.0.0,>=1.2.0->snorkel==0.9.5) (4.0.0)\n",
      "Requirement already satisfied: protobuf>=3.6.0 in ./venv/lib/python3.8/site-packages (from tensorboard<2.0.0,>=1.14.0->snorkel==0.9.5) (3.19.1)\n",
      "Requirement already satisfied: setuptools>=41.0.0 in ./venv/lib/python3.8/site-packages (from tensorboard<2.0.0,>=1.14.0->snorkel==0.9.5) (44.0.0)\n",
      "Requirement already satisfied: werkzeug>=0.11.15 in ./venv/lib/python3.8/site-packages (from tensorboard<2.0.0,>=1.14.0->snorkel==0.9.5) (2.0.2)\n",
      "Requirement already satisfied: wheel>=0.26; python_version >= \"3\" in ./venv/lib/python3.8/site-packages (from tensorboard<2.0.0,>=1.14.0->snorkel==0.9.5) (0.37.0)\n",
      "Requirement already satisfied: six>=1.10.0 in ./venv/lib/python3.8/site-packages (from tensorboard<2.0.0,>=1.14.0->snorkel==0.9.5) (1.16.0)\n",
      "Requirement already satisfied: markdown>=2.6.8 in ./venv/lib/python3.8/site-packages (from tensorboard<2.0.0,>=1.14.0->snorkel==0.9.5) (3.3.6)\n",
      "Requirement already satisfied: grpcio>=1.6.3 in ./venv/lib/python3.8/site-packages (from tensorboard<2.0.0,>=1.14.0->snorkel==0.9.5) (1.41.1)\n",
      "Requirement already satisfied: absl-py>=0.4 in ./venv/lib/python3.8/site-packages (from tensorboard<2.0.0,>=1.14.0->snorkel==0.9.5) (1.0.0)\n",
      "Requirement already satisfied: pytz>=2017.2 in ./venv/lib/python3.8/site-packages (from pandas<0.26.0,>=0.25.0->snorkel==0.9.5) (2021.3)\n",
      "Requirement already satisfied: python-dateutil>=2.6.1 in ./venv/lib/python3.8/site-packages (from pandas<0.26.0,>=0.25.0->snorkel==0.9.5) (2.8.2)\n",
      "Requirement already satisfied: decorator>=4.3.0 in ./venv/lib/python3.8/site-packages (from networkx<2.4,>=2.2->snorkel==0.9.5) (5.1.0)\n",
      "Requirement already satisfied: importlib-metadata>=4.4; python_version < \"3.10\" in ./venv/lib/python3.8/site-packages (from markdown>=2.6.8->tensorboard<2.0.0,>=1.14.0->snorkel==0.9.5) (4.8.2)\n",
      "Requirement already satisfied: zipp>=0.5 in ./venv/lib/python3.8/site-packages (from importlib-metadata>=4.4; python_version < \"3.10\"->markdown>=2.6.8->tensorboard<2.0.0,>=1.14.0->snorkel==0.9.5) (3.6.0)\n",
      "Installing collected packages: numpy\n",
      "  Attempting uninstall: numpy\n",
      "    Found existing installation: numpy 1.16.6\n",
      "    Uninstalling numpy-1.16.6:\n",
      "      Successfully uninstalled numpy-1.16.6\n",
      "Successfully installed numpy-1.21.4\n"
     ]
    }
   ],
   "source": [
    "!pip install opencv-python==4.2.0.34 snorkel==0.9.5 scikit-learn==0.21.3"
   ]
  },
  {
   "cell_type": "code",
   "execution_count": 6,
   "metadata": {},
   "outputs": [
    {
     "ename": "ValueError",
     "evalue": "numpy.ndarray size changed, may indicate binary incompatibility. Expected 88 from C header, got 80 from PyObject",
     "output_type": "error",
     "traceback": [
      "\u001b[0;31m---------------------------------------------------------------------------\u001b[0m",
      "\u001b[0;31mValueError\u001b[0m                                Traceback (most recent call last)",
      "\u001b[0;32m/tmp/ipykernel_174873/2625719972.py\u001b[0m in \u001b[0;36m<module>\u001b[0;34m\u001b[0m\n\u001b[1;32m      3\u001b[0m \u001b[0;32mimport\u001b[0m \u001b[0mcv2\u001b[0m\u001b[0;34m\u001b[0m\u001b[0;34m\u001b[0m\u001b[0m\n\u001b[1;32m      4\u001b[0m \u001b[0;32mimport\u001b[0m \u001b[0mnumpy\u001b[0m \u001b[0;32mas\u001b[0m \u001b[0mnp\u001b[0m\u001b[0;34m\u001b[0m\u001b[0;34m\u001b[0m\u001b[0m\n\u001b[0;32m----> 5\u001b[0;31m \u001b[0;32mfrom\u001b[0m \u001b[0msnorkel\u001b[0m\u001b[0;34m.\u001b[0m\u001b[0mlabeling\u001b[0m \u001b[0;32mimport\u001b[0m \u001b[0mLFApplier\u001b[0m\u001b[0;34m\u001b[0m\u001b[0;34m\u001b[0m\u001b[0m\n\u001b[0m\u001b[1;32m      6\u001b[0m \u001b[0;32mfrom\u001b[0m \u001b[0msnorkel\u001b[0m\u001b[0;34m.\u001b[0m\u001b[0mlabeling\u001b[0m\u001b[0;34m.\u001b[0m\u001b[0mmodel\u001b[0m \u001b[0;32mimport\u001b[0m \u001b[0mLabelModel\u001b[0m\u001b[0;34m\u001b[0m\u001b[0;34m\u001b[0m\u001b[0m\n\u001b[1;32m      7\u001b[0m \u001b[0;32mfrom\u001b[0m \u001b[0mPicture\u001b[0m \u001b[0;32mimport\u001b[0m \u001b[0mPicture\u001b[0m\u001b[0;34m\u001b[0m\u001b[0;34m\u001b[0m\u001b[0m\n",
      "\u001b[0;32m~/dev/master-htesus/venv/lib/python3.8/site-packages/snorkel/labeling/__init__.py\u001b[0m in \u001b[0;36m<module>\u001b[0;34m\u001b[0m\n\u001b[1;32m      1\u001b[0m \u001b[0;34m\"\"\"Programmatic data set labeling: LF creation, models, and analysis utilities.\"\"\"\u001b[0m\u001b[0;34m\u001b[0m\u001b[0;34m\u001b[0m\u001b[0m\n\u001b[1;32m      2\u001b[0m \u001b[0;34m\u001b[0m\u001b[0m\n\u001b[0;32m----> 3\u001b[0;31m \u001b[0;32mfrom\u001b[0m \u001b[0;34m.\u001b[0m\u001b[0manalysis\u001b[0m \u001b[0;32mimport\u001b[0m \u001b[0mLFAnalysis\u001b[0m  \u001b[0;31m# noqa: F401\u001b[0m\u001b[0;34m\u001b[0m\u001b[0;34m\u001b[0m\u001b[0m\n\u001b[0m\u001b[1;32m      4\u001b[0m \u001b[0;32mfrom\u001b[0m \u001b[0;34m.\u001b[0m\u001b[0mapply\u001b[0m\u001b[0;34m.\u001b[0m\u001b[0mcore\u001b[0m \u001b[0;32mimport\u001b[0m \u001b[0mLFApplier\u001b[0m  \u001b[0;31m# noqa: F401\u001b[0m\u001b[0;34m\u001b[0m\u001b[0;34m\u001b[0m\u001b[0m\n\u001b[1;32m      5\u001b[0m \u001b[0;32mfrom\u001b[0m \u001b[0;34m.\u001b[0m\u001b[0mapply\u001b[0m\u001b[0;34m.\u001b[0m\u001b[0mpandas\u001b[0m \u001b[0;32mimport\u001b[0m \u001b[0mPandasLFApplier\u001b[0m  \u001b[0;31m# noqa: F401\u001b[0m\u001b[0;34m\u001b[0m\u001b[0;34m\u001b[0m\u001b[0m\n",
      "\u001b[0;32m~/dev/master-htesus/venv/lib/python3.8/site-packages/snorkel/labeling/analysis.py\u001b[0m in \u001b[0;36m<module>\u001b[0;34m\u001b[0m\n\u001b[1;32m      6\u001b[0m \u001b[0;32mimport\u001b[0m \u001b[0mscipy\u001b[0m\u001b[0;34m.\u001b[0m\u001b[0msparse\u001b[0m \u001b[0;32mas\u001b[0m \u001b[0msparse\u001b[0m\u001b[0;34m\u001b[0m\u001b[0;34m\u001b[0m\u001b[0m\n\u001b[1;32m      7\u001b[0m \u001b[0;32mfrom\u001b[0m \u001b[0mpandas\u001b[0m \u001b[0;32mimport\u001b[0m \u001b[0mDataFrame\u001b[0m\u001b[0;34m,\u001b[0m \u001b[0mSeries\u001b[0m\u001b[0;34m\u001b[0m\u001b[0;34m\u001b[0m\u001b[0m\n\u001b[0;32m----> 8\u001b[0;31m \u001b[0;32mfrom\u001b[0m \u001b[0msklearn\u001b[0m\u001b[0;34m.\u001b[0m\u001b[0mmetrics\u001b[0m \u001b[0;32mimport\u001b[0m \u001b[0mconfusion_matrix\u001b[0m\u001b[0;34m\u001b[0m\u001b[0;34m\u001b[0m\u001b[0m\n\u001b[0m\u001b[1;32m      9\u001b[0m \u001b[0;34m\u001b[0m\u001b[0m\n\u001b[1;32m     10\u001b[0m \u001b[0;32mfrom\u001b[0m \u001b[0msnorkel\u001b[0m\u001b[0;34m.\u001b[0m\u001b[0mutils\u001b[0m \u001b[0;32mimport\u001b[0m \u001b[0mto_int_label_array\u001b[0m\u001b[0;34m\u001b[0m\u001b[0;34m\u001b[0m\u001b[0m\n",
      "\u001b[0;32m~/dev/master-htesus/venv/lib/python3.8/site-packages/sklearn/__init__.py\u001b[0m in \u001b[0;36m<module>\u001b[0;34m\u001b[0m\n\u001b[1;32m     74\u001b[0m \u001b[0;32melse\u001b[0m\u001b[0;34m:\u001b[0m\u001b[0;34m\u001b[0m\u001b[0;34m\u001b[0m\u001b[0m\n\u001b[1;32m     75\u001b[0m     \u001b[0;32mfrom\u001b[0m \u001b[0;34m.\u001b[0m \u001b[0;32mimport\u001b[0m \u001b[0m__check_build\u001b[0m\u001b[0;34m\u001b[0m\u001b[0;34m\u001b[0m\u001b[0m\n\u001b[0;32m---> 76\u001b[0;31m     \u001b[0;32mfrom\u001b[0m \u001b[0;34m.\u001b[0m\u001b[0mbase\u001b[0m \u001b[0;32mimport\u001b[0m \u001b[0mclone\u001b[0m\u001b[0;34m\u001b[0m\u001b[0;34m\u001b[0m\u001b[0m\n\u001b[0m\u001b[1;32m     77\u001b[0m     \u001b[0;32mfrom\u001b[0m \u001b[0;34m.\u001b[0m\u001b[0mutils\u001b[0m\u001b[0;34m.\u001b[0m\u001b[0m_show_versions\u001b[0m \u001b[0;32mimport\u001b[0m \u001b[0mshow_versions\u001b[0m\u001b[0;34m\u001b[0m\u001b[0;34m\u001b[0m\u001b[0m\n\u001b[1;32m     78\u001b[0m \u001b[0;34m\u001b[0m\u001b[0m\n",
      "\u001b[0;32m~/dev/master-htesus/venv/lib/python3.8/site-packages/sklearn/base.py\u001b[0m in \u001b[0;36m<module>\u001b[0;34m\u001b[0m\n\u001b[1;32m     14\u001b[0m \u001b[0;34m\u001b[0m\u001b[0m\n\u001b[1;32m     15\u001b[0m \u001b[0;32mfrom\u001b[0m \u001b[0;34m.\u001b[0m \u001b[0;32mimport\u001b[0m \u001b[0m__version__\u001b[0m\u001b[0;34m\u001b[0m\u001b[0;34m\u001b[0m\u001b[0m\n\u001b[0;32m---> 16\u001b[0;31m \u001b[0;32mfrom\u001b[0m \u001b[0;34m.\u001b[0m\u001b[0mutils\u001b[0m \u001b[0;32mimport\u001b[0m \u001b[0m_IS_32BIT\u001b[0m\u001b[0;34m\u001b[0m\u001b[0;34m\u001b[0m\u001b[0m\n\u001b[0m\u001b[1;32m     17\u001b[0m \u001b[0;34m\u001b[0m\u001b[0m\n\u001b[1;32m     18\u001b[0m _DEFAULT_TAGS = {\n",
      "\u001b[0;32m~/dev/master-htesus/venv/lib/python3.8/site-packages/sklearn/utils/__init__.py\u001b[0m in \u001b[0;36m<module>\u001b[0;34m\u001b[0m\n\u001b[1;32m     13\u001b[0m \u001b[0;32mfrom\u001b[0m \u001b[0mscipy\u001b[0m\u001b[0;34m.\u001b[0m\u001b[0msparse\u001b[0m \u001b[0;32mimport\u001b[0m \u001b[0missparse\u001b[0m\u001b[0;34m\u001b[0m\u001b[0;34m\u001b[0m\u001b[0m\n\u001b[1;32m     14\u001b[0m \u001b[0;34m\u001b[0m\u001b[0m\n\u001b[0;32m---> 15\u001b[0;31m \u001b[0;32mfrom\u001b[0m \u001b[0;34m.\u001b[0m\u001b[0mmurmurhash\u001b[0m \u001b[0;32mimport\u001b[0m \u001b[0mmurmurhash3_32\u001b[0m\u001b[0;34m\u001b[0m\u001b[0;34m\u001b[0m\u001b[0m\n\u001b[0m\u001b[1;32m     16\u001b[0m \u001b[0;32mfrom\u001b[0m \u001b[0;34m.\u001b[0m\u001b[0mclass_weight\u001b[0m \u001b[0;32mimport\u001b[0m \u001b[0mcompute_class_weight\u001b[0m\u001b[0;34m,\u001b[0m \u001b[0mcompute_sample_weight\u001b[0m\u001b[0;34m\u001b[0m\u001b[0;34m\u001b[0m\u001b[0m\n\u001b[1;32m     17\u001b[0m \u001b[0;32mfrom\u001b[0m \u001b[0;34m.\u001b[0m \u001b[0;32mimport\u001b[0m \u001b[0m_joblib\u001b[0m\u001b[0;34m\u001b[0m\u001b[0;34m\u001b[0m\u001b[0m\n",
      "\u001b[0;32m__init__.pxd\u001b[0m in \u001b[0;36minit sklearn.utils.murmurhash\u001b[0;34m()\u001b[0m\n",
      "\u001b[0;31mValueError\u001b[0m: numpy.ndarray size changed, may indicate binary incompatibility. Expected 88 from C header, got 80 from PyObject"
     ]
    }
   ],
   "source": [
    "import glob\n",
    "import os\n",
    "import cv2\n",
    "import numpy as np\n",
    "from snorkel.labeling import LFApplier\n",
    "from snorkel.labeling.model import LabelModel\n",
    "from Picture import Picture\n",
    "from PixelData import PixelData\n",
    "from labeling_fcns import lfs, window_size,h,w\n",
    "from gold_labels import get_gold_labels"
   ]
  },
  {
   "cell_type": "code",
   "execution_count": null,
   "metadata": {},
   "outputs": [],
   "source": [
    "gt_path='labeling/gt/' # ground truth\n",
    "dest_path='labeling/masks_generated/' # labelling fnuction output ?\n",
    "source_path='labeling/source/*' # raw images"
   ]
  },
  {
   "cell_type": "code",
   "execution_count": null,
   "metadata": {},
   "outputs": [],
   "source": [
    "\n",
    "images_sorted=sorted(glob.glob(source_path))\n",
    "images_splitted=np.array_split(images_sorted, 26)\n",
    "\n",
    "rows=h\n",
    "cols=w\n",
    "\n",
    "for list_idx,list in enumerate(images_splitted):\n",
    "\n",
    "        df_train_Pictures = []\n",
    "        L_train = []\n",
    "        applier = LFApplier(lfs)\n",
    "\n",
    "        gold=get_gold_labels(list,gt_path)\n",
    "        for idx,filepath in enumerate(list):\n",
    "            filename = os.path.basename(filepath)\n",
    "            image=cv2.imread(filepath)\n",
    "            #cv2.namedWindow('gray_scale', cv2.WINDOW_NORMAL)\n",
    "            #cv2.imshow('gray_scale', image)\n",
    "            #cv2.waitKey(0) # press numpad 0\n",
    "            image_pixels = []\n",
    "            print(\"filtering img\")\n",
    "            filtered_image = cv2.bilateralFilter(image, 9, 75, 75)\n",
    "            for x in range(0, rows):\n",
    "                for y in range(0, cols):\n",
    "                    cutted_image= filtered_image[x:(x + window_size), y:(y + window_size)]\n",
    "                    output_labels = applier.apply([cutted_image])\n",
    "                    pixelData=PixelData(output_labels,x,y)\n",
    "                    image_pixels.append(pixelData)\n",
    "                    L_train.append(output_labels[0])\n",
    "            print(\"img filtered\")\n",
    "\n",
    "            pic=Picture(image_pixels,filepath)\n",
    "            df_train_Pictures.append(pic)\n",
    "\n",
    "        L = np.array(L_train)\n",
    "\n",
    "        print(\"training data\")\n",
    "        label_model = LabelModel(cardinality=2, verbose=True, device='cpu')\n",
    "        #label_model = LabelModel(cardinality=2, verbose=True,device='cuda')\n",
    "        print(\"fitting data\")\n",
    "        label_model.fit(L_train=L, seed=123,log_freq=1)\n",
    "\n",
    "        for picture in df_train_Pictures:\n",
    "            image=np.zeros((rows,cols))\n",
    "            for idx2, pixel in enumerate(picture.pixels):\n",
    "                pred=label_model.predict(pixel.labels)\n",
    "                if pred>0:\n",
    "                    pred=0\n",
    "                else:\n",
    "                    pred=255\n",
    "                image[pixel.x,pixel.y]=pred\n",
    "            current_path=dest_path+os.path.basename(picture.filename)\n",
    "            cv2.imwrite(current_path, image)\n"
   ]
  },
  {
   "cell_type": "code",
   "execution_count": null,
   "metadata": {},
   "outputs": [],
   "source": []
  }
 ],
 "metadata": {
  "kernelspec": {
   "display_name": "Python 3",
   "language": "python",
   "name": "python3"
  },
  "language_info": {
   "codemirror_mode": {
    "name": "ipython",
    "version": 3
   },
   "file_extension": ".py",
   "mimetype": "text/x-python",
   "name": "python",
   "nbconvert_exporter": "python",
   "pygments_lexer": "ipython3",
   "version": "3.8.10"
  }
 },
 "nbformat": 4,
 "nbformat_minor": 4
}
